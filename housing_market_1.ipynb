{
 "cells": [
  {
   "cell_type": "code",
   "execution_count": null,
   "id": "1c20b714-2d71-4cb3-b3ae-8040ae992aef",
   "metadata": {},
   "outputs": [],
   "source": [
    "import pandas as pd\n",
    "import numpy as np\n",
    "import matplotlib.pyplot as plt\n",
    "import seaborn as sns"
   ]
  },
  {
   "cell_type": "code",
   "execution_count": null,
   "id": "f514980e-e93d-4781-8c18-fa9d665c6e47",
   "metadata": {},
   "outputs": [],
   "source": [
    "# MSA = Metropolitan Statistical Area\n",
    "# An MSA must have a population of at least 50,000 \n",
    "# An MSA refers to a region that includes a central city and surrounding urbanized areas with a high degree of economic integration. "
   ]
  },
  {
   "cell_type": "code",
   "execution_count": null,
   "id": "f71fadc0-0725-46e4-99e0-a543e43e81a8",
   "metadata": {},
   "outputs": [],
   "source": [
    "# msp = Median Sale Price\n",
    "msp = pd.read_csv('data/Metro_median_sale_price_uc_sfrcondo_sm_week.csv')"
   ]
  },
  {
   "cell_type": "code",
   "execution_count": null,
   "id": "d58f931c-022d-44a0-93f5-f650018bac7a",
   "metadata": {},
   "outputs": [],
   "source": [
    "# asp = Average Sale Price\n",
    "asp = pd.read_csv('data/Metro_mean_sale_price_now_uc_sfrcondo_month.csv')"
   ]
  },
  {
   "cell_type": "code",
   "execution_count": null,
   "id": "5084888f-6d53-4301-9be7-e827fb9ceaa6",
   "metadata": {},
   "outputs": [],
   "source": [
    "# Rename columns\n",
    "asp = asp.rename(columns = {'RegionID' : 'region_id', 'SizeRank' : 'size_rank', 'RegionName' : 'region', 'RegionType' : 'region_type', 'StateName' : 'state'})"
   ]
  },
  {
   "cell_type": "code",
   "execution_count": null,
   "id": "2087ecfc-b527-4f49-9f8c-7745c8a6a24a",
   "metadata": {},
   "outputs": [],
   "source": [
    "# Creating a new column displaying just the city name\n",
    "# asp['city'] = asp['region'].str.slice(0, -4)"
   ]
  },
  {
   "cell_type": "code",
   "execution_count": null,
   "id": "bcbe30cd-1b56-4e59-ba50-d3d9880bf2ea",
   "metadata": {},
   "outputs": [],
   "source": [
    "msp = msp.rename(columns = {'RegionID' : 'region_id', 'SizeRank' : 'size_rank', 'RegionName' : 'region', 'RegionType' : 'region_type', 'StateName' : 'state'})"
   ]
  },
  {
   "cell_type": "markdown",
   "id": "d3301c42-fca7-404a-8491-16af6a6423bc",
   "metadata": {},
   "source": [
    "# Finding the current avg and median sale prices in Nashville and nationally"
   ]
  },
  {
   "cell_type": "code",
   "execution_count": null,
   "id": "48121e25-6e1c-4e74-b5be-6b9a7f91e1ef",
   "metadata": {},
   "outputs": [],
   "source": [
    "# Isolating Nashville row\n",
    "# Most recent avg sale price for Nashville\n",
    "nash_asp = asp.loc[asp['region'] == 'Nashville, TN']\n",
    "nash_asp_recent = nash_asp['2025-06-30']\n",
    "nash_asp_recent"
   ]
  },
  {
   "cell_type": "code",
   "execution_count": null,
   "id": "3f2aa679-ee67-4ef8-b6ff-da36b3f6e905",
   "metadata": {},
   "outputs": [],
   "source": [
    "# Most recent median sale price for Nashville\n",
    "nash_msp = msp.loc[msp['region'] == 'Nashville, TN']\n",
    "nash_msp_recent = nash_msp['2025-06-14']\n",
    "nash_msp_recent"
   ]
  },
  {
   "cell_type": "code",
   "execution_count": null,
   "id": "2bdd37de-6f1f-4994-a832-f0c266a97873",
   "metadata": {},
   "outputs": [],
   "source": [
    "# Isolating the National median prices\n",
    "# National median sale price\n",
    "nat_msp = msp.loc[msp['region_type'] == 'country']\n",
    "nat_msp_recent = nat_msp['2025-06-14']\n",
    "nat_msp_recent"
   ]
  },
  {
   "cell_type": "code",
   "execution_count": null,
   "id": "c692508f-7a2e-4922-a165-e71d4274a07e",
   "metadata": {},
   "outputs": [],
   "source": [
    "# National average sale price\n",
    "nat_asp = asp.loc[asp['region_type'] == 'country']\n",
    "nat_asp_recent = nat_asp['2025-06-30']\n",
    "nat_asp_recent"
   ]
  },
  {
   "cell_type": "markdown",
   "id": "3d006bb5-d6de-4867-aa37-3adaa05411b6",
   "metadata": {},
   "source": [
    "# Nashville avg and median sales prices in the past decade"
   ]
  },
  {
   "cell_type": "code",
   "execution_count": null,
   "id": "3ecd04e2-2721-4c14-bccc-a8877353222c",
   "metadata": {
    "scrolled": true
   },
   "outputs": [],
   "source": [
    "# Looking at Nashville average sale price 2015-2025\n",
    "nash_asp.loc[:, '2015-01-31':'2025-06-30']"
   ]
  },
  {
   "cell_type": "code",
   "execution_count": null,
   "id": "7de37d8f-1c32-42b2-960a-eb096bb5cce7",
   "metadata": {},
   "outputs": [],
   "source": [
    "# Looking at Nashville median sale price 2015-2025\n",
    "nash_msp.loc[:, '2015-01-03':'2025-06-14']"
   ]
  },
  {
   "cell_type": "markdown",
   "id": "4dd39ae1-bb18-480d-bb4b-2620fa80dc59",
   "metadata": {},
   "source": [
    "# Finding the avg and median sale prices for 2025"
   ]
  },
  {
   "cell_type": "code",
   "execution_count": null,
   "id": "d49a100e-436f-4d59-93bd-e8ebbffa9892",
   "metadata": {},
   "outputs": [],
   "source": [
    "# Once I calculate all of the avg and median sales prices for each year of the last decade, \n",
    "# I would like to add those findings as columns back to the main dataframes"
   ]
  },
  {
   "cell_type": "code",
   "execution_count": null,
   "id": "7473320c-7516-4849-be57-b287387544c0",
   "metadata": {},
   "outputs": [],
   "source": [
    "# Year to date median sale price\n",
    "nash_msp_2025 = nash_msp.loc[:,'2025-01-04':'2025-06-14']\n",
    "nash_msp_2025"
   ]
  },
  {
   "cell_type": "code",
   "execution_count": null,
   "id": "23262f12-29f7-4b74-9b83-605cecc076e7",
   "metadata": {},
   "outputs": [],
   "source": [
    "# Median sale price 2025\n",
    "nash_msp_2025_total = nash_msp_2025.median(axis=1)\n",
    "nash_msp_2025_total"
   ]
  },
  {
   "cell_type": "code",
   "execution_count": null,
   "id": "4fc22570-8679-4f78-9cb3-a42ca90fa77e",
   "metadata": {},
   "outputs": [],
   "source": [
    "nash_asp_2025 = nash_asp.loc[:,'2025-01-31':'2025-06-30']\n",
    "nash_asp_2025"
   ]
  },
  {
   "cell_type": "code",
   "execution_count": null,
   "id": "c2285880-90b4-4849-8768-15b3c71fc18e",
   "metadata": {},
   "outputs": [],
   "source": [
    "# Avg sale price 2025\n",
    "nash_asp_2025_total = nash_asp_2025.mean(axis=1)\n",
    "nash_asp_2025_total "
   ]
  },
  {
   "cell_type": "markdown",
   "id": "41e0cd72-c7b9-4c9f-a2fc-902dff93c8bc",
   "metadata": {},
   "source": [
    "# Changing the msp & asp dataframes so the dates are now data instead of column headers"
   ]
  },
  {
   "cell_type": "code",
   "execution_count": null,
   "id": "a758faba-f5fd-40ef-b163-8a17764a3285",
   "metadata": {},
   "outputs": [],
   "source": [
    "temp_msp = msp.columns.to_list()[5:]"
   ]
  },
  {
   "cell_type": "code",
   "execution_count": null,
   "id": "59d7dce3-ba21-439a-b52f-ef15e1845964",
   "metadata": {},
   "outputs": [],
   "source": [
    "temp_msp_2 = msp.columns.to_list()[:5]"
   ]
  },
  {
   "cell_type": "code",
   "execution_count": null,
   "id": "34ff4e0a-9248-4bfd-8f19-c0b864a98376",
   "metadata": {},
   "outputs": [],
   "source": [
    "msp_alt = msp.melt(value_vars = temp_msp, id_vars = temp_msp_2)"
   ]
  },
  {
   "cell_type": "code",
   "execution_count": null,
   "id": "f451da18-5f37-4975-88f9-79e43c64aa04",
   "metadata": {
    "scrolled": true
   },
   "outputs": [],
   "source": [
    "msp_alt.rename(columns={'variable': 'date', 'value': 'sale_price'}, inplace=True)"
   ]
  },
  {
   "cell_type": "code",
   "execution_count": null,
   "id": "d5e79ac7-7887-44c4-8ad3-fbfe5aa0c9e1",
   "metadata": {},
   "outputs": [],
   "source": [
    "msp_alt['date'] = pd.to_datetime(msp_alt['date'], format='%Y-%m-%d')"
   ]
  },
  {
   "cell_type": "code",
   "execution_count": null,
   "id": "6f89db39-1f51-43d7-ae1e-3db31328b49c",
   "metadata": {},
   "outputs": [],
   "source": [
    "# msp_alt['sale_price'] = msp_alt['sale_price'].astype(int)"
   ]
  },
  {
   "cell_type": "code",
   "execution_count": null,
   "id": "3c4ceff8-fc9a-4d56-9c72-56186d85f35b",
   "metadata": {},
   "outputs": [],
   "source": [
    "temp_asp = asp.columns.to_list()[5:]"
   ]
  },
  {
   "cell_type": "code",
   "execution_count": null,
   "id": "dfc8de3e-6df9-407b-a020-e19913ae51ca",
   "metadata": {},
   "outputs": [],
   "source": [
    "temp_asp_2 = asp.columns.to_list()[:5]"
   ]
  },
  {
   "cell_type": "code",
   "execution_count": null,
   "id": "8c0cb5fe-9c61-4be7-a2a3-053ebbe489c5",
   "metadata": {},
   "outputs": [],
   "source": [
    "asp_alt = asp.melt(value_vars = temp_asp, id_vars = temp_asp_2)"
   ]
  },
  {
   "cell_type": "code",
   "execution_count": null,
   "id": "0aa7aac2-9e8e-449f-932b-ba05375f0d9b",
   "metadata": {},
   "outputs": [],
   "source": [
    "asp_alt.rename(columns={'variable': 'date', 'value': 'sale_price'}, inplace=True)"
   ]
  },
  {
   "cell_type": "code",
   "execution_count": null,
   "id": "52e9a3cd-2abe-4d7f-b09f-d9b2dc7e938a",
   "metadata": {},
   "outputs": [],
   "source": [
    "asp_alt['date'] = pd.to_datetime(asp_alt['date'], format='%Y-%m-%d')"
   ]
  },
  {
   "cell_type": "markdown",
   "id": "610b0ad7-cb52-49d6-9bba-34d4225c2ced",
   "metadata": {},
   "source": [
    "# Calculate the avg & median sale price for every year of the past 15 years for Nashville & nationally"
   ]
  },
  {
   "cell_type": "code",
   "execution_count": null,
   "id": "152e4ab7-63dd-4572-b17c-aa5a8fafc0d7",
   "metadata": {
    "scrolled": true
   },
   "outputs": [],
   "source": [
    "#asp_alt_2025 = (asp_alt['date'] >= '2025-01-01') & (asp_alt['date'] <= '2025-06-30') & (asp_alt['region'] == 'Nashville, TN')\n",
    "#nash_asp_alt_2025 = asp_alt.loc[asp_alt_2025]\n",
    "#nash_asp_alt_2025['sale_price'].mean()"
   ]
  },
  {
   "cell_type": "code",
   "execution_count": null,
   "id": "23472577-0413-48ef-8e73-4f9b7bb0ee7e",
   "metadata": {},
   "outputs": [],
   "source": [
    "nat_vs_nash_msp_2010_2025 = msp_alt[(msp_alt['region'].isin(['Nashville, TN', 'United States'])) &(msp_alt['date'] >= '2010-01-01') &(msp_alt['date'] <= '2025-12-31')]"
   ]
  },
  {
   "cell_type": "code",
   "execution_count": null,
   "id": "9fff30de-ae8d-49a8-8f55-68ed61ec4095",
   "metadata": {},
   "outputs": [],
   "source": [
    "plt.figure(figsize=(12,6))\n",
    "\n",
    "sns.lineplot(data  =nat_vs_nash_msp_2010_2025, x='date', y='sale_price', hue='region')\n",
    "\n",
    "plt.title('Median Sales Price of Homes in Nashville vs National (2010-2025)')\n",
    "plt.xlabel('Year')\n",
    "plt.ylabel('Median Sale Price')\n",
    "plt.ylim(bottom=0)\n",
    "plt.legend(title='Region')\n",
    "plt.grid(True)\n",
    "plt.show()"
   ]
  },
  {
   "cell_type": "code",
   "execution_count": null,
   "id": "3a222dfa-1f5d-4944-9d9d-d6b5ffb77fa3",
   "metadata": {},
   "outputs": [],
   "source": [
    "nat_vs_nash_asp_2010_2025 = asp_alt[(asp_alt['region'].isin(['Nashville, TN', 'United States'])) & (asp_alt['date'] >= '2010-01-01') & (asp_alt['date'] <= '2025-12-31')]"
   ]
  },
  {
   "cell_type": "code",
   "execution_count": null,
   "id": "ad9e82e0-9657-487d-9d67-caffb886b920",
   "metadata": {},
   "outputs": [],
   "source": [
    "plt.figure(figsize=(12,6))\n",
    "\n",
    "sns.lineplot(data  = nat_vs_nash_asp_2010_2025, x='date', y='sale_price', hue='region')\n",
    "\n",
    "plt.title('Average Sales Price of Homes in Nashville vs National (2010-2025)')\n",
    "plt.xlabel('Year')\n",
    "plt.ylabel('Median Sale Price')\n",
    "plt.ylim(bottom=0)\n",
    "plt.legend(title='Region')\n",
    "plt.grid(True)\n",
    "plt.show()"
   ]
  },
  {
   "cell_type": "code",
   "execution_count": null,
   "id": "40e04c74-b886-4c4a-9f74-c1bca8b59d12",
   "metadata": {},
   "outputs": [],
   "source": [
    "# Current highest average home prices by city\n",
    "current_msp = msp_alt[['region','date', 'sale_price']]\n",
    "current_msp.sort_values(by='sale_price', ascending=False).head(1)"
   ]
  },
  {
   "cell_type": "code",
   "execution_count": null,
   "id": "485ffac3-cf3f-409f-92dd-f94f5c11a738",
   "metadata": {},
   "outputs": [],
   "source": [
    "sj_vs_nash_msp_2010_2025 = msp_alt[(msp_alt['region'].isin(['Nashville, TN', 'San Jose, CA'])) &(msp_alt['date'] >= '2010-01-01') &(msp_alt['date'] <= '2025-12-31')]"
   ]
  },
  {
   "cell_type": "code",
   "execution_count": null,
   "id": "cf82535c-2445-4b79-be4b-00db8275506c",
   "metadata": {},
   "outputs": [],
   "source": [
    "#plt.figure(figsize=(12,6))\n",
    "\n",
    "#sns.lineplot(data  = sj_vs_nash_msp_2010_2025, x='date', y='sale_price', hue='region')\n",
    "\n",
    "#plt.title('Median Sales Price of Homes in San Jose vs Nashville (2010-2025)')\n",
    "#plt.xlabel('Year')\n",
    "#plt.ylabel('Median Sale Price in Millions')\n",
    "#plt.ylim(bottom=0)\n",
    "#plt.legend(title='Region')\n",
    "#plt.grid(True)\n",
    "#plt.show()"
   ]
  },
  {
   "cell_type": "code",
   "execution_count": null,
   "id": "39efa369-e820-40ba-a3a3-c7cb26bba4f6",
   "metadata": {},
   "outputs": [],
   "source": [
    "sj_vs_nash_asp_2010_2025 = asp_alt[(asp_alt['region'].isin(['Nashville, TN', 'San Jose, CA'])) &(asp_alt['date'] >= '2010-01-01') &(asp_alt['date'] <= '2025-12-31')]"
   ]
  },
  {
   "cell_type": "code",
   "execution_count": null,
   "id": "d023a158-313a-45df-be14-71a5b58f1a83",
   "metadata": {},
   "outputs": [],
   "source": [
    "#plt.figure(figsize=(12,6))\n",
    "\n",
    "#sns.lineplot(data  = sj_vs_nash_asp_2010_2025, x='date', y='sale_price', hue='region')\n",
    "\n",
    "#plt.title('Median Sales Price of Homes in San Jose vs Nashville (2010-2025)')\n",
    "#plt.xlabel('Year')\n",
    "#plt.ylabel('Average Sale Price in Millions')\n",
    "#plt.ylim(bottom=0)\n",
    "#plt.legend(title='Region')\n",
    "#plt.grid(True)\n",
    "#plt.show()"
   ]
  },
  {
   "cell_type": "markdown",
   "id": "dfa2a776-745c-4388-bd48-1bad40f24b7e",
   "metadata": {},
   "source": [
    "# Looking into new builds"
   ]
  },
  {
   "cell_type": "code",
   "execution_count": null,
   "id": "c66b4832-9b97-4cb8-88c3-42a632232b02",
   "metadata": {},
   "outputs": [],
   "source": [
    "new_b = pd.read_csv('data/Metro_new_construction_sales_count_raw_uc_sfrcondo_month.csv')"
   ]
  },
  {
   "cell_type": "code",
   "execution_count": null,
   "id": "331d16cd-3a28-4cd7-b86b-d02ccd68ed0a",
   "metadata": {},
   "outputs": [],
   "source": [
    "temp_new = new_b.columns.to_list()[5:]"
   ]
  },
  {
   "cell_type": "code",
   "execution_count": null,
   "id": "32a8e1bb-3203-42f9-b85f-3daacf4e906c",
   "metadata": {},
   "outputs": [],
   "source": [
    "temp_new_2 = new_b.columns.to_list()[:5]"
   ]
  },
  {
   "cell_type": "code",
   "execution_count": null,
   "id": "d00faaf9-0df1-4d86-ac20-599895d0c935",
   "metadata": {},
   "outputs": [],
   "source": [
    "new_build = new_b.melt(value_vars = temp_new, id_vars = temp_new_2)"
   ]
  },
  {
   "cell_type": "code",
   "execution_count": null,
   "id": "507cb6d9-4aa4-451a-bdac-d2872f835f2f",
   "metadata": {},
   "outputs": [],
   "source": [
    "new_build.rename(columns={'variable': 'date', 'value': 'new_builds'}, inplace=True)"
   ]
  },
  {
   "cell_type": "code",
   "execution_count": null,
   "id": "c27bec76-175d-47ea-b3ff-dfb38dcc223a",
   "metadata": {},
   "outputs": [],
   "source": [
    "new_build = new_build.rename(columns = {'RegionID' : 'region_id', 'SizeRank' : 'size_rank', 'RegionName' : 'region', 'RegionType' : 'region_type', 'StateName' : 'state'})"
   ]
  },
  {
   "cell_type": "code",
   "execution_count": null,
   "id": "e6dc549f-8a1c-41b4-8354-1b7981709c1a",
   "metadata": {},
   "outputs": [],
   "source": [
    "new_build['date'] = pd.to_datetime(new_build['date'], format='%Y-%m-%d')"
   ]
  },
  {
   "cell_type": "code",
   "execution_count": null,
   "id": "6e4acfff-58af-4e35-9de6-f9badb831d84",
   "metadata": {},
   "outputs": [],
   "source": [
    "new_build['year'] = new_build['date'].dt.year"
   ]
  },
  {
   "cell_type": "code",
   "execution_count": null,
   "id": "f5d675ec-52c1-423e-a123-9bbd05794995",
   "metadata": {},
   "outputs": [],
   "source": [
    "new_build_nash = new_build.loc[new_build['region'] == 'Nashville, TN']"
   ]
  },
  {
   "cell_type": "code",
   "execution_count": null,
   "id": "5dafea35-d8f6-4844-ba9b-a55cff0991c2",
   "metadata": {},
   "outputs": [],
   "source": [
    "# Summing the count of new builds in Nashville by year\n",
    "new_build_nash.groupby('year')['new_builds'].sum()"
   ]
  },
  {
   "cell_type": "markdown",
   "id": "e36988ff-4ce8-44fd-852d-a6778681f54d",
   "metadata": {},
   "source": [
    "# ------------"
   ]
  },
  {
   "cell_type": "code",
   "execution_count": null,
   "id": "e3c2226f-dddf-450a-94ee-608e80ceab5a",
   "metadata": {},
   "outputs": [],
   "source": [
    "new_con = pd.read_csv('data/Metro_new_construction_median_sale_price_uc_sfrcondo_month.csv')"
   ]
  },
  {
   "cell_type": "code",
   "execution_count": null,
   "id": "eec6a286-f39a-4ae3-b9bb-ac62fed12021",
   "metadata": {},
   "outputs": [],
   "source": [
    "new_con"
   ]
  },
  {
   "cell_type": "code",
   "execution_count": null,
   "id": "e72d4916-65dc-4cb7-a49c-bedd1f5fb2fd",
   "metadata": {},
   "outputs": [],
   "source": [
    "temp_new_con = new_con.columns.to_list()[5:]\n",
    "temp_new_con_2 = new_con.columns.to_list()[:5]\n",
    "new_cons = new_con.melt(value_vars = temp_new_con, id_vars = temp_new_con_2)\n",
    "new_cons.rename(columns = {'variable': 'date', 'value': 'new_build_sales', 'RegionID' : 'region_id', 'SizeRank' : 'size_rank', 'RegionName' : 'region', 'RegionType' : 'region_type', 'StateName' : 'state'}, inplace=True) \n",
    "new_cons['date'] = pd.to_datetime(new_cons['date'], format='%Y-%m-%d')\n",
    "new_cons['year'] = new_cons['date'].dt.year\n",
    "new_cons_nash = new_cons.loc[new_cons['region'] == 'Nashville, TN']\n",
    "new_cons_nash.groupby('year')['new_build_sales'].mean()"
   ]
  },
  {
   "cell_type": "code",
   "execution_count": null,
   "id": "ff28442f-c679-42b3-a7bf-6c2fdea0a9f8",
   "metadata": {},
   "outputs": [],
   "source": []
  }
 ],
 "metadata": {
  "kernelspec": {
   "display_name": "Python [conda env:base] *",
   "language": "python",
   "name": "conda-base-py"
  },
  "language_info": {
   "codemirror_mode": {
    "name": "ipython",
    "version": 3
   },
   "file_extension": ".py",
   "mimetype": "text/x-python",
   "name": "python",
   "nbconvert_exporter": "python",
   "pygments_lexer": "ipython3",
   "version": "3.13.5"
  }
 },
 "nbformat": 4,
 "nbformat_minor": 5
}
