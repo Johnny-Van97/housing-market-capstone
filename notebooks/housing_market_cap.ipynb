{
 "cells": [
  {
   "cell_type": "code",
   "execution_count": null,
   "id": "1c20b714-2d71-4cb3-b3ae-8040ae992aef",
   "metadata": {},
   "outputs": [],
   "source": [
    "import pandas as pd\n",
    "import numpy as np\n",
    "import matplotlib.pyplot as plt\n",
    "import seaborn as sns\n",
    "from matplotlib.ticker import MultipleLocator\n",
    "from matplotlib.dates import YearLocator\n",
    "import matplotlib.dates as mdates\n",
    "import matplotlib.ticker as mtick"
   ]
  },
  {
   "cell_type": "code",
   "execution_count": null,
   "id": "f514980e-e93d-4781-8c18-fa9d665c6e47",
   "metadata": {},
   "outputs": [],
   "source": [
    "# MSA = Metropolitan Statistical Area\n",
    "# An MSA must have a population of at least 50,000 \n",
    "# An MSA refers to a region that includes a central city and surrounding urbanized areas with a high degree of economic integration. \n",
    "# The counties that make up the Nashville MSA are: Cannon, Cheatham, Davidson, Dickson, Macon, Maury, Robertson, Rutherford, Smith Sumner, Trousdale, Williamson and Wilson"
   ]
  },
  {
   "cell_type": "code",
   "execution_count": null,
   "id": "dc83c165-fd17-403a-9642-73ba0f568ef4",
   "metadata": {},
   "outputs": [],
   "source": [
    "# Data sources:\n",
    "# https://www.zillow.com/research/data/\n",
    "# https://fred.stlouisfed.org/series/\n",
    "# https://www.freddiemac.com/pmms"
   ]
  },
  {
   "cell_type": "code",
   "execution_count": null,
   "id": "f71fadc0-0725-46e4-99e0-a543e43e81a8",
   "metadata": {},
   "outputs": [],
   "source": [
    "# msp = Median Sale Price\n",
    "msp = pd.read_csv('../data/Metro_median_sale_price_uc_sfrcondo_sm_week.csv')"
   ]
  },
  {
   "cell_type": "code",
   "execution_count": null,
   "id": "d58f931c-022d-44a0-93f5-f650018bac7a",
   "metadata": {},
   "outputs": [],
   "source": [
    "# asp = Average Sale Price\n",
    "asp = pd.read_csv('../data/Metro_mean_sale_price_now_uc_sfrcondo_month.csv')"
   ]
  },
  {
   "cell_type": "code",
   "execution_count": null,
   "id": "5084888f-6d53-4301-9be7-e827fb9ceaa6",
   "metadata": {},
   "outputs": [],
   "source": [
    "# Rename columns\n",
    "asp = asp.rename(columns = {'RegionID' : 'region_id', 'SizeRank' : 'size_rank', 'RegionName' : 'region', 'RegionType' : 'region_type', 'StateName' : 'state'})"
   ]
  },
  {
   "cell_type": "code",
   "execution_count": null,
   "id": "2087ecfc-b527-4f49-9f8c-7745c8a6a24a",
   "metadata": {},
   "outputs": [],
   "source": [
    "# Creating a new column displaying just the city name\n",
    "# asp['city'] = asp['region'].str.slice(0, -4)"
   ]
  },
  {
   "cell_type": "code",
   "execution_count": null,
   "id": "bcbe30cd-1b56-4e59-ba50-d3d9880bf2ea",
   "metadata": {},
   "outputs": [],
   "source": [
    "msp = msp.rename(columns = {'RegionID' : 'region_id', 'SizeRank' : 'size_rank', 'RegionName' : 'region', 'RegionType' : 'region_type', 'StateName' : 'state'})"
   ]
  },
  {
   "cell_type": "markdown",
   "id": "d3301c42-fca7-404a-8491-16af6a6423bc",
   "metadata": {},
   "source": [
    "# Finding the current avg and median sale prices in Nashville and nationally"
   ]
  },
  {
   "cell_type": "code",
   "execution_count": null,
   "id": "48121e25-6e1c-4e74-b5be-6b9a7f91e1ef",
   "metadata": {},
   "outputs": [],
   "source": [
    "# Isolating Nashville row\n",
    "# Most recent avg sale price for Nashville\n",
    "nash_asp = asp.loc[asp['region'] == 'Nashville, TN']\n",
    "nash_asp_recent = nash_asp['2025-06-30']\n",
    "nash_asp_recent"
   ]
  },
  {
   "cell_type": "code",
   "execution_count": null,
   "id": "c692508f-7a2e-4922-a165-e71d4274a07e",
   "metadata": {},
   "outputs": [],
   "source": [
    "# National average sale price\n",
    "nat_asp = asp.loc[asp['region_type'] == 'country']\n",
    "nat_asp_recent = nat_asp['2025-06-30']\n",
    "nat_asp_recent"
   ]
  },
  {
   "cell_type": "code",
   "execution_count": null,
   "id": "3f2aa679-ee67-4ef8-b6ff-da36b3f6e905",
   "metadata": {},
   "outputs": [],
   "source": [
    "# Most recent median sale price for Nashville\n",
    "nash_msp = msp.loc[msp['region'] == 'Nashville, TN']\n",
    "nash_msp_recent = nash_msp['2025-06-14']\n",
    "nash_msp_recent"
   ]
  },
  {
   "cell_type": "code",
   "execution_count": null,
   "id": "2bdd37de-6f1f-4994-a832-f0c266a97873",
   "metadata": {},
   "outputs": [],
   "source": [
    "# Isolating the National median prices\n",
    "# National median sale price\n",
    "nat_msp = msp.loc[msp['region_type'] == 'country']\n",
    "nat_msp_recent = nat_msp['2025-06-14']\n",
    "nat_msp_recent"
   ]
  },
  {
   "cell_type": "markdown",
   "id": "3d006bb5-d6de-4867-aa37-3adaa05411b6",
   "metadata": {},
   "source": [
    "# Nashville avg and median sales prices in the past decade"
   ]
  },
  {
   "cell_type": "code",
   "execution_count": null,
   "id": "3ecd04e2-2721-4c14-bccc-a8877353222c",
   "metadata": {
    "scrolled": true
   },
   "outputs": [],
   "source": [
    "# Looking at Nashville average sale price 2015-2025\n",
    "nash_asp.loc[:, '2015-01-31':'2025-06-30']"
   ]
  },
  {
   "cell_type": "code",
   "execution_count": null,
   "id": "7de37d8f-1c32-42b2-960a-eb096bb5cce7",
   "metadata": {},
   "outputs": [],
   "source": [
    "# Looking at Nashville median sale price 2015-2025\n",
    "nash_msp.loc[:, '2015-01-03':'2025-06-14']"
   ]
  },
  {
   "cell_type": "markdown",
   "id": "4dd39ae1-bb18-480d-bb4b-2620fa80dc59",
   "metadata": {},
   "source": [
    "# Finding the avg and median sale prices for 2025"
   ]
  },
  {
   "cell_type": "code",
   "execution_count": null,
   "id": "d49a100e-436f-4d59-93bd-e8ebbffa9892",
   "metadata": {},
   "outputs": [],
   "source": [
    "# Once I calculate all of the avg and median sales prices for each year of the last decade, \n",
    "# I would like to add those findings as columns back to the main dataframes"
   ]
  },
  {
   "cell_type": "code",
   "execution_count": null,
   "id": "7473320c-7516-4849-be57-b287387544c0",
   "metadata": {
    "scrolled": true
   },
   "outputs": [],
   "source": [
    "# Year to date median sale price\n",
    "nash_msp_2025 = nash_msp.loc[:,'2025-01-04':'2025-06-14']\n",
    "nash_msp_2025"
   ]
  },
  {
   "cell_type": "code",
   "execution_count": null,
   "id": "62e6932e-3ac7-40b1-9bbc-e0af3d2204a4",
   "metadata": {},
   "outputs": [],
   "source": [
    "# Latest Nashville median home price in 2025 in 465,000"
   ]
  },
  {
   "cell_type": "code",
   "execution_count": null,
   "id": "23262f12-29f7-4b74-9b83-605cecc076e7",
   "metadata": {},
   "outputs": [],
   "source": [
    "# Median sale price 2025\n",
    "nash_msp_2025_total = nash_msp_2025.median(axis=1)\n",
    "nash_msp_2025_total"
   ]
  },
  {
   "cell_type": "code",
   "execution_count": null,
   "id": "4fc22570-8679-4f78-9cb3-a42ca90fa77e",
   "metadata": {},
   "outputs": [],
   "source": [
    "nash_asp_2025 = nash_asp.loc[:,'2025-01-31':'2025-06-30']\n",
    "nash_asp_2025"
   ]
  },
  {
   "cell_type": "code",
   "execution_count": null,
   "id": "c2285880-90b4-4849-8768-15b3c71fc18e",
   "metadata": {},
   "outputs": [],
   "source": [
    "# Avg sale price 2025\n",
    "nash_asp_2025_total = nash_asp_2025.mean(axis=1)\n",
    "nash_asp_2025_total "
   ]
  },
  {
   "cell_type": "markdown",
   "id": "41e0cd72-c7b9-4c9f-a2fc-902dff93c8bc",
   "metadata": {},
   "source": [
    "# Changing the msp & asp dataframes so the dates are now data instead of column headers"
   ]
  },
  {
   "cell_type": "code",
   "execution_count": null,
   "id": "a758faba-f5fd-40ef-b163-8a17764a3285",
   "metadata": {},
   "outputs": [],
   "source": [
    "temp_msp = msp.columns.to_list()[5:]"
   ]
  },
  {
   "cell_type": "code",
   "execution_count": null,
   "id": "59d7dce3-ba21-439a-b52f-ef15e1845964",
   "metadata": {},
   "outputs": [],
   "source": [
    "temp_msp_2 = msp.columns.to_list()[:5]"
   ]
  },
  {
   "cell_type": "code",
   "execution_count": null,
   "id": "34ff4e0a-9248-4bfd-8f19-c0b864a98376",
   "metadata": {},
   "outputs": [],
   "source": [
    "msp_alt = msp.melt(value_vars = temp_msp, id_vars = temp_msp_2)"
   ]
  },
  {
   "cell_type": "code",
   "execution_count": null,
   "id": "f451da18-5f37-4975-88f9-79e43c64aa04",
   "metadata": {
    "scrolled": true
   },
   "outputs": [],
   "source": [
    "msp_alt.rename(columns={'variable': 'date', 'value': 'sale_price'}, inplace=True)"
   ]
  },
  {
   "cell_type": "code",
   "execution_count": null,
   "id": "d5e79ac7-7887-44c4-8ad3-fbfe5aa0c9e1",
   "metadata": {},
   "outputs": [],
   "source": [
    "msp_alt['date'] = pd.to_datetime(msp_alt['date'], format='%Y-%m-%d')"
   ]
  },
  {
   "cell_type": "code",
   "execution_count": null,
   "id": "6f89db39-1f51-43d7-ae1e-3db31328b49c",
   "metadata": {},
   "outputs": [],
   "source": [
    "# msp_alt['sale_price'] = msp_alt['sale_price'].astype(int)"
   ]
  },
  {
   "cell_type": "code",
   "execution_count": null,
   "id": "3c4ceff8-fc9a-4d56-9c72-56186d85f35b",
   "metadata": {},
   "outputs": [],
   "source": [
    "temp_asp = asp.columns.to_list()[5:]"
   ]
  },
  {
   "cell_type": "code",
   "execution_count": null,
   "id": "dfc8de3e-6df9-407b-a020-e19913ae51ca",
   "metadata": {},
   "outputs": [],
   "source": [
    "temp_asp_2 = asp.columns.to_list()[:5]"
   ]
  },
  {
   "cell_type": "code",
   "execution_count": null,
   "id": "8c0cb5fe-9c61-4be7-a2a3-053ebbe489c5",
   "metadata": {},
   "outputs": [],
   "source": [
    "asp_alt = asp.melt(value_vars = temp_asp, id_vars = temp_asp_2)"
   ]
  },
  {
   "cell_type": "code",
   "execution_count": null,
   "id": "0aa7aac2-9e8e-449f-932b-ba05375f0d9b",
   "metadata": {},
   "outputs": [],
   "source": [
    "asp_alt.rename(columns={'variable': 'date', 'value': 'sale_price'}, inplace=True)"
   ]
  },
  {
   "cell_type": "code",
   "execution_count": null,
   "id": "52e9a3cd-2abe-4d7f-b09f-d9b2dc7e938a",
   "metadata": {},
   "outputs": [],
   "source": [
    "asp_alt['date'] = pd.to_datetime(asp_alt['date'], format='%Y-%m-%d')"
   ]
  },
  {
   "cell_type": "markdown",
   "id": "610b0ad7-cb52-49d6-9bba-34d4225c2ced",
   "metadata": {},
   "source": [
    "# Calculate the avg & median sale price for every year of the past 15 years for Nashville & nationally"
   ]
  },
  {
   "cell_type": "code",
   "execution_count": null,
   "id": "152e4ab7-63dd-4572-b17c-aa5a8fafc0d7",
   "metadata": {
    "scrolled": true
   },
   "outputs": [],
   "source": [
    "#asp_alt_2025 = (asp_alt['date'] >= '2025-01-01') & (asp_alt['date'] <= '2025-06-30') & (asp_alt['region'] == 'Nashville, TN')\n",
    "#nash_asp_alt_2025 = asp_alt.loc[asp_alt_2025]\n",
    "#nash_asp_alt_2025['sale_price'].mean()"
   ]
  },
  {
   "cell_type": "code",
   "execution_count": null,
   "id": "23472577-0413-48ef-8e73-4f9b7bb0ee7e",
   "metadata": {},
   "outputs": [],
   "source": [
    "nat_vs_nash_msp_2010_2025 = msp_alt[(msp_alt['region'].isin(['Nashville, TN', 'United States'])) & (msp_alt['date'] >= '2010-01-01') & (msp_alt['date'] <= '2025-12-31')]"
   ]
  },
  {
   "cell_type": "code",
   "execution_count": null,
   "id": "f46adeb6-7046-49b1-accf-d510f42bdaa9",
   "metadata": {},
   "outputs": [],
   "source": [
    "nash_msp_2016_2025 = msp_alt[(msp_alt['region'].isin(['Nashville, TN'])) & (msp_alt['date'] >= '2016-01-01') & (msp_alt['date'] <= '2025-12-31')]"
   ]
  },
  {
   "cell_type": "code",
   "execution_count": null,
   "id": "991e3c3b-c27c-430b-a539-42aa16cdf912",
   "metadata": {},
   "outputs": [],
   "source": [
    "# Finding the median home price in Nashville just for 2024\n",
    "# msp_alt[(msp_alt['region'].isin(['Nashville, TN'])) &(msp_alt['date'] >= '2024-01-01') &(msp_alt['date'] <= '2024-12-31')].groupby('year')['sale_price'].median()"
   ]
  },
  {
   "cell_type": "code",
   "execution_count": null,
   "id": "90ca3679-49d6-4e97-8986-42e180cb417d",
   "metadata": {},
   "outputs": [],
   "source": [
    "nat_vs_nash_msp_2010_2025"
   ]
  },
  {
   "cell_type": "markdown",
   "id": "b0026b67-741d-4027-ba26-b2d1cc549beb",
   "metadata": {},
   "source": [
    "# Plotting Nashville vs National"
   ]
  },
  {
   "cell_type": "code",
   "execution_count": null,
   "id": "aa8def59-991b-4f93-8f61-ab2cfb59a008",
   "metadata": {},
   "outputs": [],
   "source": [
    "nat_v_nash = nat_vs_nash_msp_2010_2025.copy()"
   ]
  },
  {
   "cell_type": "code",
   "execution_count": null,
   "id": "3181524c-515d-4ed1-bf19-3924387faf80",
   "metadata": {},
   "outputs": [],
   "source": [
    "nat_v_nash[\"date\"] = pd.to_datetime(nat_v_nash[\"date\"])"
   ]
  },
  {
   "cell_type": "code",
   "execution_count": null,
   "id": "0562dfbc-1540-4630-a313-92076936bc39",
   "metadata": {},
   "outputs": [],
   "source": [
    "nat_v_nash[\"year\"] = nat_v_nash[\"date\"].dt.year"
   ]
  },
  {
   "cell_type": "code",
   "execution_count": null,
   "id": "05881258-cdff-4503-b347-07bad2207044",
   "metadata": {},
   "outputs": [],
   "source": [
    "plt.figure(figsize=(12, 8))\n",
    "\n",
    "ax = sns.lineplot(data = nat_v_nash, x=\"date\", y=\"sale_price\", hue=\"region\", palette={\"Nashville, TN\": \"indigo\", \"United States\": \"#4C72B0\"})\n",
    "\n",
    "plt.title(\"Median Sales Price of Homes in Nashville MSA vs National (2010-2025)\")\n",
    "plt.xlabel(\"Year\"); plt.ylabel(\"Median Sale Price\")\n",
    "plt.ylim(0); plt.legend(title=\"Region\"); plt.grid(True)\n",
    "\n",
    "ax.yaxis.set_major_locator(MultipleLocator(50000))\n",
    "\n",
    "plt.tight_layout()\n",
    "plt.show()"
   ]
  },
  {
   "cell_type": "markdown",
   "id": "43bdb5ed-613e-4f77-8cc0-5f95aec4a400",
   "metadata": {},
   "source": [
    "# Showing just Nashville's increase since 2016"
   ]
  },
  {
   "cell_type": "code",
   "execution_count": null,
   "id": "4a6e4ef4-0fdf-425c-8265-4ca547a6f909",
   "metadata": {},
   "outputs": [],
   "source": [
    "nash_msp_only = nash_msp_2016_2025.copy()"
   ]
  },
  {
   "cell_type": "code",
   "execution_count": null,
   "id": "8a5b5ae3-8a80-48b3-bc57-980a7e25ff99",
   "metadata": {},
   "outputs": [],
   "source": [
    "nash_msp_only[\"date\"] = pd.to_datetime(nash_msp_only[\"date\"])"
   ]
  },
  {
   "cell_type": "code",
   "execution_count": null,
   "id": "6c761846-5497-46ed-9f3f-f7be4a52e33a",
   "metadata": {},
   "outputs": [],
   "source": [
    "nash_msp_only[\"year\"] = nash_msp_only[\"date\"].dt.year"
   ]
  },
  {
   "cell_type": "code",
   "execution_count": null,
   "id": "5b8fcc31-b8f2-4a86-9c3e-fc924e6ecb13",
   "metadata": {},
   "outputs": [],
   "source": [
    "nash_msp_only"
   ]
  },
  {
   "cell_type": "code",
   "execution_count": null,
   "id": "ee8490f1-93f6-4166-9b6c-1ae49a8fbdc4",
   "metadata": {},
   "outputs": [],
   "source": [
    "plt.figure(figsize = (8,6))\n",
    "ax = sns.lineplot(data = nash_msp_only, x = 'date', y = 'sale_price', hue = 'region', palette = {\"Nashville, TN\": \"indigo\", \"United States\": \"#4C72B0\"})\n",
    "\n",
    "plt.title('Median Sales Price of Homes in Nashville MSA Since 2016')\n",
    "plt.xlabel('Year')\n",
    "plt.ylabel('Median Sale Price')\n",
    "plt.ylim(bottom=0)\n",
    "plt.grid(True)\n",
    "\n",
    "ax.yaxis.set_major_locator(MultipleLocator(50000))\n",
    "\n",
    "plt.tight_layout()\n",
    "plt.show()"
   ]
  },
  {
   "cell_type": "code",
   "execution_count": null,
   "id": "d1cc4cc7-ebb5-4527-9616-a95e4fcea765",
   "metadata": {},
   "outputs": [],
   "source": [
    "# Showing the Nashville % growth against the U.S.\n",
    "#nash_vs_us_pct_change = annual_price_msp.pivot(index='year', columns='region', values='sale_price').reset_index()"
   ]
  },
  {
   "cell_type": "code",
   "execution_count": null,
   "id": "9af46b9e-85b0-4f48-9d0b-a855b74f1e30",
   "metadata": {},
   "outputs": [],
   "source": [
    "#nash_vs_us_pct_change['pct_gap_vs_us'] = ((nash_vs_us_pct_change['Nashville, TN'] - nash_vs_us_pct_change['United States']) / nash_vs_us_pct_change['United States']) * 100"
   ]
  },
  {
   "cell_type": "code",
   "execution_count": null,
   "id": "22d13071-1bf2-4706-9a22-d99afaf47750",
   "metadata": {
    "scrolled": true
   },
   "outputs": [],
   "source": [
    "#nash_vs_us_pct_change"
   ]
  },
  {
   "cell_type": "code",
   "execution_count": null,
   "id": "3a222dfa-1f5d-4944-9d9d-d6b5ffb77fa3",
   "metadata": {},
   "outputs": [],
   "source": [
    "nat_vs_nash_asp_2010_2025 = asp_alt[(asp_alt['region'].isin(['Nashville, TN', 'United States'])) & (asp_alt['date'] >= '2010-01-01') & (asp_alt['date'] <= '2025-12-31')]"
   ]
  },
  {
   "cell_type": "markdown",
   "id": "c91ee745-3e3f-43ce-bc6a-f0a6f380dc57",
   "metadata": {},
   "source": [
    "# Plotting Nashville vs national avg home price"
   ]
  },
  {
   "cell_type": "code",
   "execution_count": null,
   "id": "52580e94-a3fc-4231-a4c7-b907f8ca8ccf",
   "metadata": {},
   "outputs": [],
   "source": [
    "nat_nash_avg = nat_vs_nash_asp_2010_2025.copy()"
   ]
  },
  {
   "cell_type": "code",
   "execution_count": null,
   "id": "a5840013-e889-4656-b89d-6a5996ca618a",
   "metadata": {},
   "outputs": [],
   "source": [
    "nat_nash_avg[\"date\"] = pd.to_datetime(nat_nash_avg[\"date\"])"
   ]
  },
  {
   "cell_type": "code",
   "execution_count": null,
   "id": "b9b465d3-9e4b-4391-942c-013044d8e4e0",
   "metadata": {},
   "outputs": [],
   "source": [
    "nat_nash_avg[\"year\"] = nat_nash_avg[\"date\"].dt.year"
   ]
  },
  {
   "cell_type": "code",
   "execution_count": null,
   "id": "2fdbfbc6-9943-4689-b2c6-01f1d8f30b4e",
   "metadata": {},
   "outputs": [],
   "source": [
    "plt.figure(figsize=(13, 8))\n",
    "\n",
    "ax = sns.lineplot(data = nat_nash_avg, x = \"date\", y = \"sale_price\", hue = \"region\", palette = {\"Nashville, TN\": \"indigo\", \"United States\": \"#4C72B0\"})\n",
    "\n",
    "plt.title(\"Average Sales Price of Homes in Nashville MSA vs National (2010-2025)\")\n",
    "plt.xlabel(\"Year\"); plt.ylabel(\"Average Sales Price\")\n",
    "plt.ylim(0); plt.legend(title=\"Region\"); plt.grid(True)\n",
    "\n",
    "ax.yaxis.set_major_locator(MultipleLocator(50000))\n",
    "ax.xaxis.set_major_locator(mdates.YearLocator(1))\n",
    "\n",
    "plt.tight_layout()\n",
    "#plt.savefig('Average Sales Price of Homes in Nashville MSA vs National (2010-2025).png')\n",
    "plt.show()"
   ]
  },
  {
   "cell_type": "code",
   "execution_count": null,
   "id": "40e04c74-b886-4c4a-9f74-c1bca8b59d12",
   "metadata": {},
   "outputs": [],
   "source": [
    "# Current highest average home prices by city\n",
    "current_msp = msp_alt[['region','date', 'sale_price']]\n",
    "current_msp.sort_values(by='sale_price', ascending=False).head(1)"
   ]
  },
  {
   "cell_type": "code",
   "execution_count": null,
   "id": "485ffac3-cf3f-409f-92dd-f94f5c11a738",
   "metadata": {},
   "outputs": [],
   "source": [
    "sj_vs_nash_msp_2010_2025 = msp_alt[(msp_alt['region'].isin(['Nashville, TN', 'San Jose, CA'])) &(msp_alt['date'] >= '2010-01-01') &(msp_alt['date'] <= '2025-12-31')]"
   ]
  },
  {
   "cell_type": "code",
   "execution_count": null,
   "id": "39efa369-e820-40ba-a3a3-c7cb26bba4f6",
   "metadata": {},
   "outputs": [],
   "source": [
    "sj_vs_nash_asp_2010_2025 = asp_alt[(asp_alt['region'].isin(['Nashville, TN', 'San Jose, CA'])) &(asp_alt['date'] >= '2010-01-01') &(asp_alt['date'] <= '2025-12-31')]"
   ]
  },
  {
   "cell_type": "markdown",
   "id": "dfa2a776-745c-4388-bd48-1bad40f24b7e",
   "metadata": {},
   "source": [
    "# Looking into new builds"
   ]
  },
  {
   "cell_type": "code",
   "execution_count": null,
   "id": "c66b4832-9b97-4cb8-88c3-42a632232b02",
   "metadata": {},
   "outputs": [],
   "source": [
    "new_b = pd.read_csv('../data/Metro_new_construction_sales_count_raw_uc_sfrcondo_month.csv')"
   ]
  },
  {
   "cell_type": "code",
   "execution_count": null,
   "id": "331d16cd-3a28-4cd7-b86b-d02ccd68ed0a",
   "metadata": {},
   "outputs": [],
   "source": [
    "temp_new = new_b.columns.to_list()[5:]"
   ]
  },
  {
   "cell_type": "code",
   "execution_count": null,
   "id": "32a8e1bb-3203-42f9-b85f-3daacf4e906c",
   "metadata": {},
   "outputs": [],
   "source": [
    "temp_new_2 = new_b.columns.to_list()[:5]"
   ]
  },
  {
   "cell_type": "code",
   "execution_count": null,
   "id": "d00faaf9-0df1-4d86-ac20-599895d0c935",
   "metadata": {},
   "outputs": [],
   "source": [
    "new_build = new_b.melt(value_vars = temp_new, id_vars = temp_new_2)"
   ]
  },
  {
   "cell_type": "code",
   "execution_count": null,
   "id": "507cb6d9-4aa4-451a-bdac-d2872f835f2f",
   "metadata": {},
   "outputs": [],
   "source": [
    "new_build.rename(columns={'variable': 'date', 'value': 'new_builds'}, inplace=True)"
   ]
  },
  {
   "cell_type": "code",
   "execution_count": null,
   "id": "c27bec76-175d-47ea-b3ff-dfb38dcc223a",
   "metadata": {},
   "outputs": [],
   "source": [
    "new_build = new_build.rename(columns = {'RegionID' : 'region_id', 'SizeRank' : 'size_rank', 'RegionName' : 'region', 'RegionType' : 'region_type', 'StateName' : 'state'})"
   ]
  },
  {
   "cell_type": "code",
   "execution_count": null,
   "id": "e6dc549f-8a1c-41b4-8354-1b7981709c1a",
   "metadata": {},
   "outputs": [],
   "source": [
    "new_build['date'] = pd.to_datetime(new_build['date'], format='%Y-%m-%d')"
   ]
  },
  {
   "cell_type": "code",
   "execution_count": null,
   "id": "6e4acfff-58af-4e35-9de6-f9badb831d84",
   "metadata": {},
   "outputs": [],
   "source": [
    "new_build['year'] = new_build['date'].dt.year"
   ]
  },
  {
   "cell_type": "code",
   "execution_count": null,
   "id": "f5d675ec-52c1-423e-a123-9bbd05794995",
   "metadata": {},
   "outputs": [],
   "source": [
    "new_build_nash = new_build.loc[new_build['region'] == 'Nashville, TN']"
   ]
  },
  {
   "cell_type": "code",
   "execution_count": null,
   "id": "1a473b00-3bcb-471c-916c-a25e683f31a0",
   "metadata": {},
   "outputs": [],
   "source": [
    "new_build_nash['new_builds'] = new_build_nash['new_builds'].astype(int)"
   ]
  },
  {
   "cell_type": "code",
   "execution_count": null,
   "id": "5dafea35-d8f6-4844-ba9b-a55cff0991c2",
   "metadata": {},
   "outputs": [],
   "source": [
    "# Summing the count of new builds in Nashville by year\n",
    "nb_nash = new_build_nash.groupby('year')['new_builds'].sum().reset_index()"
   ]
  },
  {
   "cell_type": "code",
   "execution_count": null,
   "id": "0e4ba04d-5849-416c-825c-a126101084a6",
   "metadata": {
    "scrolled": true
   },
   "outputs": [],
   "source": [
    "yearly_builds = new_build_nash.groupby('year')['new_builds'].sum()\n",
    "\n",
    "plt.figure(figsize = (12,7))\n",
    "plt.bar(yearly_builds.index, yearly_builds.values, color=\"indigo\")\n",
    "\n",
    "plt.title('New Home Builds for Nashville MSA (2018-2025)')\n",
    "plt.xlabel('Year')\n",
    "plt.ylabel('Number of New Builds')\n",
    "plt.xticks(yearly_builds.index, rotation=0)\n",
    "\n",
    "plt.tight_layout()\n",
    "#plt.savefig('New Home Builds for Nashville MSA (2018-2025).png')\n",
    "plt.show()"
   ]
  },
  {
   "cell_type": "code",
   "execution_count": null,
   "id": "e3c2226f-dddf-450a-94ee-608e80ceab5a",
   "metadata": {},
   "outputs": [],
   "source": [
    "new_con = pd.read_csv('../data/Metro_new_construction_median_sale_price_uc_sfrcondo_month.csv')"
   ]
  },
  {
   "cell_type": "code",
   "execution_count": null,
   "id": "eec6a286-f39a-4ae3-b9bb-ac62fed12021",
   "metadata": {},
   "outputs": [],
   "source": [
    "new_con"
   ]
  },
  {
   "cell_type": "code",
   "execution_count": null,
   "id": "020e13a2-2d64-491f-8f95-6f49de51a3a6",
   "metadata": {},
   "outputs": [],
   "source": [
    "temp_new_con = new_con.columns.to_list()[5:]"
   ]
  },
  {
   "cell_type": "code",
   "execution_count": null,
   "id": "352aeb83-9538-44c0-8f5a-6b5eee73e1bd",
   "metadata": {},
   "outputs": [],
   "source": [
    "temp_new_con_2 = new_con.columns.to_list()[:5]"
   ]
  },
  {
   "cell_type": "code",
   "execution_count": null,
   "id": "43329140-f089-4d3f-8a00-1b4ec8061f74",
   "metadata": {},
   "outputs": [],
   "source": [
    "new_cons = new_con.melt(value_vars = temp_new_con, id_vars = temp_new_con_2)"
   ]
  },
  {
   "cell_type": "code",
   "execution_count": null,
   "id": "2f5cc747-f1b1-4c43-bab6-963c36ee26a3",
   "metadata": {},
   "outputs": [],
   "source": [
    "new_cons.rename(columns = {'variable': 'date', 'value': 'new_build_sales', 'RegionID' : 'region_id', 'SizeRank' : 'size_rank', 'RegionName' : 'region', 'RegionType' : 'region_type', 'StateName' : 'state'}, inplace=True)"
   ]
  },
  {
   "cell_type": "code",
   "execution_count": null,
   "id": "1fda1dbd-ed89-440a-81cf-847e502dc9c0",
   "metadata": {},
   "outputs": [],
   "source": [
    "new_cons['date'] = pd.to_datetime(new_cons['date'], format='%Y-%m-%d')"
   ]
  },
  {
   "cell_type": "code",
   "execution_count": null,
   "id": "640e981c-138b-46d4-b35a-1266b2f75d09",
   "metadata": {},
   "outputs": [],
   "source": [
    "new_cons['year'] = new_cons['date'].dt.year"
   ]
  },
  {
   "cell_type": "code",
   "execution_count": null,
   "id": "83888e5d-c33a-4dd6-b919-e7385515f912",
   "metadata": {},
   "outputs": [],
   "source": [
    "new_cons_nash = new_cons.loc[new_cons['region'] == 'Nashville, TN']"
   ]
  },
  {
   "cell_type": "code",
   "execution_count": null,
   "id": "706f70f7-4919-42fb-9dde-fda1c3b4748e",
   "metadata": {},
   "outputs": [],
   "source": [
    "new_cons_nash = new_cons_nash.groupby('year')['new_build_sales'].median().reset_index()"
   ]
  },
  {
   "cell_type": "code",
   "execution_count": null,
   "id": "49a97670-6128-4f1f-a683-2edf2ff40f95",
   "metadata": {},
   "outputs": [],
   "source": [
    "new_cons_nash"
   ]
  },
  {
   "cell_type": "markdown",
   "id": "b1f6d128-781b-4854-8af0-f1648af7f9b7",
   "metadata": {},
   "source": [
    "# Nashville MSA Population"
   ]
  },
  {
   "cell_type": "code",
   "execution_count": null,
   "id": "90d6e1e5-d885-4527-9c28-b46e508b1283",
   "metadata": {},
   "outputs": [],
   "source": [
    "nash_msa_pop = pd.read_csv('../data/nash_msa_pop.csv')"
   ]
  },
  {
   "cell_type": "code",
   "execution_count": null,
   "id": "f46832d9-7350-4164-8091-c6d86d710a4f",
   "metadata": {},
   "outputs": [],
   "source": [
    "nash_msa_pop['population'] = (nash_msa_pop['population'] * 1000).round().astype(int)"
   ]
  },
  {
   "cell_type": "code",
   "execution_count": null,
   "id": "727ceb5d-8bc7-4a49-a191-4cc08cdabc49",
   "metadata": {},
   "outputs": [],
   "source": [
    "nash_msa_pop"
   ]
  },
  {
   "cell_type": "markdown",
   "id": "d584a0e6-35de-42e3-b56a-0c35886c5ec1",
   "metadata": {},
   "source": [
    "# Nashville MSA Income merge w/ MSA Population"
   ]
  },
  {
   "cell_type": "code",
   "execution_count": null,
   "id": "4adc0f62-55ef-4cd1-b608-92e671178c18",
   "metadata": {},
   "outputs": [],
   "source": [
    "nash_msa_income = pd.read_csv('../data/nash_msa_median_income.csv')"
   ]
  },
  {
   "cell_type": "code",
   "execution_count": null,
   "id": "f8594ef2-8abb-45f6-9494-8141123bb184",
   "metadata": {},
   "outputs": [],
   "source": [
    "nash_msa_pop_income = pd.merge(nash_msa_income, nash_msa_pop, on='year', how='inner')"
   ]
  },
  {
   "cell_type": "code",
   "execution_count": null,
   "id": "7ed7acec-45b9-4e0b-9b0d-b78d523a8005",
   "metadata": {
    "scrolled": true
   },
   "outputs": [],
   "source": [
    "nash_msa_pop_income"
   ]
  },
  {
   "cell_type": "code",
   "execution_count": null,
   "id": "d7e75af8-7b9f-46b9-92b7-c21e195c367e",
   "metadata": {},
   "outputs": [],
   "source": [
    "nash_msa_pop_income_new_build = pd.merge(nash_msa_pop_income, nb_nash, on = 'year', how = 'inner')\n",
    "nash_msa_pop_income_new_build "
   ]
  },
  {
   "cell_type": "markdown",
   "id": "a8df8eac-7d3d-44b4-a9b4-97f63a399b36",
   "metadata": {},
   "source": [
    "# Plotting population"
   ]
  },
  {
   "cell_type": "code",
   "execution_count": null,
   "id": "9171eab3-9392-46f3-99bd-d97237e3628c",
   "metadata": {},
   "outputs": [],
   "source": [
    "n_pop = nash_msa_pop_income.copy()"
   ]
  },
  {
   "cell_type": "code",
   "execution_count": null,
   "id": "b8a6bf95-344a-40cd-80d2-435ee0a32592",
   "metadata": {},
   "outputs": [],
   "source": [
    "n_pop = n_pop[(n_pop[\"year\"] >= 2010) & (n_pop[\"year\"] <= 2024)]"
   ]
  },
  {
   "cell_type": "code",
   "execution_count": null,
   "id": "43dfa405-c517-4e65-adf5-d4074949e9fe",
   "metadata": {},
   "outputs": [],
   "source": [
    "n_pop[\"yoy_growth_pct\"] = n_pop[\"population\"].pct_change() * 100"
   ]
  },
  {
   "cell_type": "code",
   "execution_count": null,
   "id": "5826e682-96f4-4c49-af4c-8456d5a7492a",
   "metadata": {
    "scrolled": true
   },
   "outputs": [],
   "source": [
    "fig, ax1 = plt.subplots(figsize=(12,8))\n",
    "\n",
    "line1, = ax1.plot(n_pop[\"year\"], n_pop[\"population\"]/1000000, marker = \"o\", color = \"indigo\", label = \"Population\")\n",
    "ax1.set_ylabel(\"Population in Millions\", color = \"indigo\")\n",
    "\n",
    "ax2 = ax1.twinx()\n",
    "\n",
    "line2, = ax2.plot(n_pop[\"year\"], n_pop[\"yoy_growth_pct\"], marker = \"o\", color = \"#4C72B0\", label = \"Year over Year Growth %\")\n",
    "ax2.set_ylabel(\"Year over Year Growth %\", color = \"#4C72B0\")\n",
    "\n",
    "ax1.set_title(\"Nashville MSA Population Growth & Year over Year Growth Percentage (2010-2024)\")\n",
    "ax1.set_xlabel(\"Year\")\n",
    "ax1.set_xticks(n_pop[\"year\"])\n",
    "ax1.grid(True)\n",
    "\n",
    "ax1.legend([line1, line2], [\"Population\", \"Year over Year Growth %\"], loc = \"upper left\")\n",
    "\n",
    "plt.show()"
   ]
  },
  {
   "cell_type": "code",
   "execution_count": null,
   "id": "00fa9ea0-8c27-4beb-84eb-d5c4bc8dac87",
   "metadata": {},
   "outputs": [],
   "source": [
    "# This chart shows the year over year growth and population increase.\n",
    "# 2020 around end of pandemic is when nashville had big boost of population being around 100K people coming to the area"
   ]
  },
  {
   "cell_type": "markdown",
   "id": "84e29793-0308-404d-a7d0-0677ca9c01e7",
   "metadata": {},
   "source": [
    "# Inventory"
   ]
  },
  {
   "cell_type": "code",
   "execution_count": null,
   "id": "8b56fda1-fc39-4bbf-9231-67bce4f600a5",
   "metadata": {},
   "outputs": [],
   "source": [
    "interim_1 = pd.read_csv('../data/Metro_inventoryt_forsale_uc_sfrcondo_sm_monthly.csv')"
   ]
  },
  {
   "cell_type": "code",
   "execution_count": null,
   "id": "e892a699-c0af-4525-9f83-9e94e69761e5",
   "metadata": {},
   "outputs": [],
   "source": [
    "temp_inv = interim_1.columns.to_list()[5:]"
   ]
  },
  {
   "cell_type": "code",
   "execution_count": null,
   "id": "42fa1572-b99d-4a3c-87e5-49647d2ead6c",
   "metadata": {},
   "outputs": [],
   "source": [
    "temp_inv_2 = interim_1.columns.to_list()[:5]"
   ]
  },
  {
   "cell_type": "code",
   "execution_count": null,
   "id": "fe7f3052-ae31-49ae-95e4-d45294c8c5fb",
   "metadata": {},
   "outputs": [],
   "source": [
    "inven = interim_1.melt(value_vars = temp_inv, id_vars = temp_inv_2)"
   ]
  },
  {
   "cell_type": "code",
   "execution_count": null,
   "id": "5e645989-1554-4b0e-957f-56a2691c3814",
   "metadata": {},
   "outputs": [],
   "source": [
    "inven.rename(columns = {'variable': 'date', 'value': 'inventory', 'RegionID' : 'region_id', 'SizeRank' : 'size_rank', 'RegionName' : 'region', 'RegionType' : 'region_type', 'StateName' : 'state'}, inplace=True) "
   ]
  },
  {
   "cell_type": "code",
   "execution_count": null,
   "id": "af35501f-659e-4e92-965e-5da42e7a32d1",
   "metadata": {},
   "outputs": [],
   "source": [
    "inven['date'] = pd.to_datetime(inven['date'], format='%Y-%m-%d')"
   ]
  },
  {
   "cell_type": "code",
   "execution_count": null,
   "id": "25ae7d44-02aa-4ea9-97dd-661330ebee5f",
   "metadata": {},
   "outputs": [],
   "source": [
    "inven['year'] = inven['date'].dt.year"
   ]
  },
  {
   "cell_type": "code",
   "execution_count": null,
   "id": "13b9ebcf-8030-40be-93c3-bdccaff2b8ad",
   "metadata": {},
   "outputs": [],
   "source": [
    "inv_nash = inven.loc[inven['region'] == 'Nashville, TN']"
   ]
  },
  {
   "cell_type": "code",
   "execution_count": null,
   "id": "9e5f910f-38c3-4fe1-87c8-5905477bc2e9",
   "metadata": {},
   "outputs": [],
   "source": [
    "inv_nash = inv_nash.groupby('year')['inventory'].sum().reset_index()"
   ]
  },
  {
   "cell_type": "code",
   "execution_count": null,
   "id": "42b72552-16c5-42a2-9f85-679c942f1a70",
   "metadata": {},
   "outputs": [],
   "source": [
    "inv_nash"
   ]
  },
  {
   "cell_type": "markdown",
   "id": "98ef0c66-fff7-4a6a-b1b6-b006cf2234ac",
   "metadata": {},
   "source": [
    "# Nashville Renting"
   ]
  },
  {
   "cell_type": "code",
   "execution_count": null,
   "id": "f16591a7-84fb-471f-99b6-84f426b28cbd",
   "metadata": {},
   "outputs": [],
   "source": [
    "zori = pd.read_csv('../data/City_zori_uc_sfrcondomfr_sm_month.csv')"
   ]
  },
  {
   "cell_type": "code",
   "execution_count": null,
   "id": "cb11e3dc-4f4f-4e8b-96c3-4856ab13c230",
   "metadata": {},
   "outputs": [],
   "source": [
    "temp_zori = zori.columns.to_list()[8:]"
   ]
  },
  {
   "cell_type": "code",
   "execution_count": null,
   "id": "0e65a50d-c334-4ddd-a517-f307df858097",
   "metadata": {},
   "outputs": [],
   "source": [
    "temp_zori_2 = zori.columns.to_list()[:8]"
   ]
  },
  {
   "cell_type": "code",
   "execution_count": null,
   "id": "9d3e6258-b9b0-4ae6-af8a-93e09d93e820",
   "metadata": {},
   "outputs": [],
   "source": [
    "zori_comb = zori.melt(value_vars = temp_zori, id_vars = temp_zori_2)"
   ]
  },
  {
   "cell_type": "code",
   "execution_count": null,
   "id": "70353a3b-4b03-44cc-ac2a-f1452df12710",
   "metadata": {},
   "outputs": [],
   "source": [
    "zori_comb.rename(columns = {'variable': 'date', 'value': 'rent_price', 'RegionID' : 'region_id', 'SizeRank' : 'size_rank', 'RegionName' : 'region', 'RegionType' : 'region_type', 'StateName' : 'state', 'Metro' : 'metro', 'CountyName' : 'county'}, inplace=True)"
   ]
  },
  {
   "cell_type": "code",
   "execution_count": null,
   "id": "0df48656-d661-4ead-8a52-cce5bfd3752f",
   "metadata": {},
   "outputs": [],
   "source": [
    "zori_comb['date'] = pd.to_datetime(zori_comb['date'], format='%Y-%m-%d')"
   ]
  },
  {
   "cell_type": "code",
   "execution_count": null,
   "id": "bad3fd2a-7b6a-4ba6-b8b8-6f4b0feb0deb",
   "metadata": {},
   "outputs": [],
   "source": [
    "zori_comb['year'] = zori_comb['date'].dt.year"
   ]
  },
  {
   "cell_type": "code",
   "execution_count": null,
   "id": "b5e3ac7a-4622-426c-b357-d5bc4232df07",
   "metadata": {},
   "outputs": [],
   "source": [
    "zori_comb.loc[zori_comb['region'] == 'Nashville']"
   ]
  },
  {
   "cell_type": "code",
   "execution_count": null,
   "id": "e70c2bcb-4f5e-4ac2-89cb-3ef94d23f1b0",
   "metadata": {},
   "outputs": [],
   "source": [
    "nash_median_rent_price = zori_comb.groupby('year')['rent_price'].median().reset_index()"
   ]
  },
  {
   "cell_type": "code",
   "execution_count": null,
   "id": "1fbd3c9f-25fe-49c8-96bd-1e943880b472",
   "metadata": {
    "scrolled": true
   },
   "outputs": [],
   "source": [
    "nash_median_rent_price['rent_price'] = nash_median_rent_price['rent_price'].round().astype(int)\n",
    "nash_median_rent_price"
   ]
  },
  {
   "cell_type": "code",
   "execution_count": null,
   "id": "63deddb9-7549-4cd1-8cae-c798757558de",
   "metadata": {},
   "outputs": [],
   "source": [
    "nash_median_rent_price = nash_median_rent_price.copy()"
   ]
  },
  {
   "cell_type": "code",
   "execution_count": null,
   "id": "4f78d70f-08c4-476f-9ee3-74fdc6225987",
   "metadata": {},
   "outputs": [],
   "source": [
    "nash_median_rent_price[\"yoy_pct\"] = nash_median_rent_price[\"rent_price\"].pct_change() * 100"
   ]
  },
  {
   "cell_type": "code",
   "execution_count": null,
   "id": "d88e8d67-289a-4457-8fce-69582d17a27c",
   "metadata": {},
   "outputs": [],
   "source": [
    "plt.figure(figsize=(12,8))\n",
    "ax = sns.barplot(x='year', y='rent_price', data=nash_median_rent_price, color='indigo')\n",
    "\n",
    "ax.bar_label(ax.containers[0], padding = -40, color=\"ivory\", fontweight=\"bold\")\n",
    "\n",
    "ax.set_title('Monthly Median Rent Price by Year for Nashville MSA with Year over Year Percentage Growth (2015-2025)')\n",
    "ax.set_xlabel('Year')\n",
    "ax.set_ylabel('Monthly Rent Price')\n",
    "\n",
    "plt.tight_layout()\n",
    "plt.show()"
   ]
  },
  {
   "cell_type": "code",
   "execution_count": null,
   "id": "24879e36-3493-4d16-b516-0e44a5ead65e",
   "metadata": {},
   "outputs": [],
   "source": [
    "zori_comb.loc[zori_comb['region'] == 'Nashville']\n",
    "nash_median_rent_price = zori_comb.groupby('year')['rent_price'].median().reset_index()"
   ]
  },
  {
   "cell_type": "code",
   "execution_count": null,
   "id": "308303b7-6358-4c88-b3f3-acd1765e9c06",
   "metadata": {},
   "outputs": [],
   "source": [
    "nash_median_rent_price['rent_price'] = nash_median_rent_price['rent_price'].round(2)\n",
    "nash_median_rent_price"
   ]
  },
  {
   "cell_type": "markdown",
   "id": "e384ff4c-c977-49f2-844e-ea44d2797871",
   "metadata": {},
   "source": [
    "# Mortgage vs rent in Nashville"
   ]
  },
  {
   "cell_type": "code",
   "execution_count": null,
   "id": "0acef01e-efe0-4ba8-88f9-1fba626ce137",
   "metadata": {},
   "outputs": [],
   "source": [
    "nash_median_rent_price['annual_rent'] = nash_median_rent_price['rent_price'] * 12"
   ]
  },
  {
   "cell_type": "code",
   "execution_count": null,
   "id": "05422ffa-8ef9-4408-b652-c5b8cf043e99",
   "metadata": {},
   "outputs": [],
   "source": [
    "nash_median_rent_price"
   ]
  },
  {
   "cell_type": "code",
   "execution_count": null,
   "id": "d984b51f-46b0-4f04-aa59-9eb1aa11461a",
   "metadata": {},
   "outputs": [],
   "source": [
    "msp_alt"
   ]
  },
  {
   "cell_type": "code",
   "execution_count": null,
   "id": "db0d6c22-c032-4049-81fe-d50fb2049f7a",
   "metadata": {},
   "outputs": [],
   "source": [
    "msp_alt['year'] = msp_alt['date'].dt.year"
   ]
  },
  {
   "cell_type": "code",
   "execution_count": null,
   "id": "67988989-8a3a-497b-a069-1e6231fc5693",
   "metadata": {},
   "outputs": [],
   "source": [
    "nashville_msp_2 = msp_alt[(msp_alt['region'] == 'Nashville, TN') & (msp_alt['year'] >= 2015) & (msp_alt['year'] <= 2025)]"
   ]
  },
  {
   "cell_type": "code",
   "execution_count": null,
   "id": "c625c444-7c7c-40df-a212-e4baeab2cc9f",
   "metadata": {},
   "outputs": [],
   "source": [
    "nashville_home_price_median_per_year = (nashville_msp_2.groupby('year')['sale_price'].median().reset_index())"
   ]
  },
  {
   "cell_type": "code",
   "execution_count": null,
   "id": "ef0feb9c-6679-480a-afe9-154ff6ab3ecd",
   "metadata": {},
   "outputs": [],
   "source": [
    "nashville_home_price_median_per_year"
   ]
  },
  {
   "cell_type": "code",
   "execution_count": null,
   "id": "15f00b1e-b28c-4508-88bd-febb0c74fa73",
   "metadata": {},
   "outputs": [],
   "source": [
    "nash_median_housing_costs = pd.read_csv('../data/nashville_median_housing_costs.csv')"
   ]
  },
  {
   "cell_type": "code",
   "execution_count": null,
   "id": "c8c8d91b-27cf-4e00-ac9d-455659a2e821",
   "metadata": {},
   "outputs": [],
   "source": [
    "nash_median_housing_costs = nash_median_housing_costs.rename(columns={'avg_mortgage_rate_pct ' : 'mortgage_rate'})"
   ]
  },
  {
   "cell_type": "code",
   "execution_count": null,
   "id": "3fb5f33d-3cb4-4195-a090-9280ff0b09a7",
   "metadata": {},
   "outputs": [],
   "source": [
    "nash_median_housing_costs"
   ]
  },
  {
   "cell_type": "code",
   "execution_count": null,
   "id": "647913a6-9509-46ae-ae1c-8b59704c45f3",
   "metadata": {},
   "outputs": [],
   "source": [
    "nash_median_housing_costs[\"pct_diff_owner_vs_rent\"] = ((nash_median_housing_costs[\"annual_owner_cost\"] - nash_median_housing_costs[\"annual_rent\"]) / nash_median_housing_costs[\"annual_rent\"]) * 100"
   ]
  },
  {
   "cell_type": "code",
   "execution_count": null,
   "id": "b456dcb6-a907-4efd-aa4c-c042a78c2815",
   "metadata": {},
   "outputs": [],
   "source": [
    "nash_median_housing_costs[\"annual_owner_cost\"] = nash_median_housing_costs[\"annual_owner_cost\"].astype(int)"
   ]
  },
  {
   "cell_type": "code",
   "execution_count": null,
   "id": "5607c7ff-7be5-40ef-963e-933c89441706",
   "metadata": {},
   "outputs": [],
   "source": [
    "nash_median_housing_costs[\"annual_rent\"] = nash_median_housing_costs[\"annual_rent\"].astype(int)"
   ]
  },
  {
   "cell_type": "code",
   "execution_count": null,
   "id": "d556b6cf-be95-4dcf-b8de-8e8313a470d6",
   "metadata": {},
   "outputs": [],
   "source": [
    " fig, ax = plt.subplots(figsize = (12, 8))\n",
    "\n",
    "nash_median_housing_costs.set_index(\"year\")[[\"annual_owner_cost\", \"annual_rent\"]].plot(kind = \"bar\", ax = ax, color = [\"indigo\", \"#4C72B0\"])\n",
    "\n",
    "ax.bar_label(ax.containers[0], label_type = \"center\", rotation = 90, color = \"ivory\", fontsize = 9, fontweight = \"bold\")\n",
    "\n",
    "ax.bar_label(ax.containers[1], label_type = \"center\", rotation = 90, color = \"ivory\", fontsize = 9, fontweight = \"bold\")\n",
    "\n",
    "ax.set_xlabel(\"Year\")\n",
    "ax.set_ylabel(\"Median Annual Costs\")\n",
    "ax.set_title(\"Median Annual Owner vs Rent Costs (2015–2025)\")\n",
    "ax.legend([\"Annual Owner Costs\", \"Annual Rent Costs\"], loc = \"upper left\")\n",
    "\n",
    "plt.tight_layout()\n",
    "plt.show()"
   ]
  },
  {
   "cell_type": "code",
   "execution_count": null,
   "id": "96a1e730-6070-4092-a63e-6791b3732352",
   "metadata": {},
   "outputs": [],
   "source": [
    "# Investigate median house price to median income in Nashville"
   ]
  },
  {
   "cell_type": "markdown",
   "id": "a207fd02-58b6-422c-ae24-c3244786b862",
   "metadata": {
    "jp-MarkdownHeadingCollapsed": true
   },
   "source": [
    "# Income vs home price in Nashville"
   ]
  },
  {
   "cell_type": "code",
   "execution_count": null,
   "id": "ea103911-c5ca-496e-9ad4-1bb80ff406c2",
   "metadata": {},
   "outputs": [],
   "source": [
    "nash_msp_pop_income = pd.merge(nash_msa_pop_income, nashville_home_price_median_per_year, on=\"year\", how=\"inner\")"
   ]
  },
  {
   "cell_type": "code",
   "execution_count": null,
   "id": "7a27d19c-4925-42d2-8ba2-e142f609bfd3",
   "metadata": {},
   "outputs": [],
   "source": [
    "nash_msp_pop_income = nash_msp_pop_income[(nash_msp_pop_income[\"year\"] >= 2015) & (nash_msp_pop_income[\"year\"] <= 2024)]"
   ]
  },
  {
   "cell_type": "code",
   "execution_count": null,
   "id": "43ee370a-a269-47fa-a2db-e8e5f908dcf7",
   "metadata": {
    "scrolled": true
   },
   "outputs": [],
   "source": [
    "nash_msp_pop_income"
   ]
  },
  {
   "cell_type": "markdown",
   "id": "08971744-00b1-42db-adfb-4a689ee3d610",
   "metadata": {},
   "source": [
    "# Calculating income growth % & price growth %"
   ]
  },
  {
   "cell_type": "code",
   "execution_count": null,
   "id": "f855a1d9-e8d5-415c-a1b8-c3dd0c1a5af8",
   "metadata": {},
   "outputs": [],
   "source": [
    "nash_msp_pop_income[\"income_growth_pct\"] = ((nash_msp_pop_income[\"income\"] - nash_msp_pop_income[\"income\"].iloc[0]) / nash_msp_pop_income[\"income\"].iloc[0] * 100)"
   ]
  },
  {
   "cell_type": "code",
   "execution_count": null,
   "id": "d402e1e4-9721-47d1-8616-093989f4f543",
   "metadata": {},
   "outputs": [],
   "source": [
    "nash_msp_pop_income[\"price_growth_pct\"] = ((nash_msp_pop_income[\"sale_price\"] - nash_msp_pop_income[\"sale_price\"].iloc[0]) / nash_msp_pop_income[\"sale_price\"].iloc[0] * 100)"
   ]
  },
  {
   "cell_type": "code",
   "execution_count": null,
   "id": "d8e903fa-9b26-4995-8438-9b4c4d485a78",
   "metadata": {},
   "outputs": [],
   "source": [
    "nash_msp_pop_income['income_growth_pct'] = nash_msp_pop_income['income_growth_pct'].round().astype(int) & nash_msp_pop_income['price_growth_pct'].round().astype(int)"
   ]
  },
  {
   "cell_type": "code",
   "execution_count": null,
   "id": "a9804e6d-9762-42a3-afc6-3095457e3127",
   "metadata": {},
   "outputs": [],
   "source": [
    "nash_msp_pop_income['price_growth_pct'] = nash_msp_pop_income['price_growth_pct'].round().astype(int)"
   ]
  },
  {
   "cell_type": "code",
   "execution_count": null,
   "id": "cf15c4a1-7369-449b-a34b-af846f7d9d9f",
   "metadata": {},
   "outputs": [],
   "source": [
    "nash_msp_pop_income"
   ]
  },
  {
   "cell_type": "code",
   "execution_count": null,
   "id": "5c9b053d-e6cb-4aa1-ba49-d3689e78f737",
   "metadata": {},
   "outputs": [],
   "source": [
    "plt.figure(figsize = (12, 8))\n",
    "\n",
    "plt.plot(nash_msp_pop_income[\"year\"], nash_msp_pop_income[\"income_growth_pct\"], marker = \"o\", label = \"Income Growth %\", color = \"#4C72B0\")\n",
    "\n",
    "plt.plot(nash_msp_pop_income[\"year\"], nash_msp_pop_income[\"price_growth_pct\"], marker = \"o\", label = \"Home Price Growth %\", color = \"indigo\")\n",
    "\n",
    "ax = plt.gca()\n",
    "ax.bar_label( ax.bar(nash_msp_pop_income[\"year\"] - 0.15, nash_msp_pop_income[\"income_growth_pct\"], alpha = 0), padding = 6, label_type = \"edge\", fontsize = 9, fontweight = \"bold\", color = \"#4C72B0\")\n",
    "ax.bar_label( ax.bar(nash_msp_pop_income[\"year\"] - 0.15, nash_msp_pop_income[\"price_growth_pct\"],  alpha = 0), padding = 6, label_type = \"edge\", fontsize = 9, fontweight = \"bold\", color = \"indigo\")\n",
    "\n",
    "plt.title(\"Home Price Growth vs. Income Growth in Nashville MSA (2015–2024)\")\n",
    "plt.xlabel(\"Year\")\n",
    "plt.ylabel(\"Percentage of Growth Since 2015\")\n",
    "plt.xticks(nash_msp_pop_income[\"year\"].astype(int))\n",
    "plt.legend()\n",
    "plt.grid(True)\n",
    "plt.tight_layout()\n",
    "plt.show()"
   ]
  },
  {
   "cell_type": "code",
   "execution_count": null,
   "id": "5bd01061-fa05-4f87-94a2-60dc53b72842",
   "metadata": {},
   "outputs": [],
   "source": [
    "# This graph shows that since around 2015 when home prices in Nashville started surpassing national median prices, nashville's median income has increased but at a much slower rate than the median home price. \n",
    "# The gap between home prices and income is increasing, home prices are outpacing income increase"
   ]
  },
  {
   "cell_type": "markdown",
   "id": "2f083ade-6d93-45c8-ad48-a9d91312c59f",
   "metadata": {},
   "source": [
    "# New build count vs sale prices in Nashville"
   ]
  },
  {
   "cell_type": "code",
   "execution_count": null,
   "id": "3dd81a4d-d2ec-4878-971c-f985522d69f6",
   "metadata": {},
   "outputs": [],
   "source": [
    "inter_df = pd.merge(nash_msp_pop_income, new_cons_nash , on=\"year\", how=\"inner\")"
   ]
  },
  {
   "cell_type": "code",
   "execution_count": null,
   "id": "7e069dfa-351f-4242-84e8-001c959ceb07",
   "metadata": {},
   "outputs": [],
   "source": [
    "nash_nb_msp_pop = pd.merge(inter_df, nb_nash , on=\"year\", how=\"inner\")"
   ]
  },
  {
   "cell_type": "code",
   "execution_count": null,
   "id": "dd96ffb5-a00c-403e-b3a3-381e5e0e96d6",
   "metadata": {
    "scrolled": true
   },
   "outputs": [],
   "source": [
    "nash_nb_msp_pop"
   ]
  },
  {
   "cell_type": "code",
   "execution_count": null,
   "id": "b9d5057d-6aab-4420-96af-d7c14bd521d0",
   "metadata": {
    "scrolled": true
   },
   "outputs": [],
   "source": [
    "fig, ax1 = plt.subplots(figsize = (12, 8))\n",
    "\n",
    "bars = ax1.bar( nash_nb_msp_pop[\"year\"], nash_nb_msp_pop[\"new_build_sales\"], color = \"#4C72B0\", label = \"Median New Build Sale Price\")\n",
    "ax1.bar_label(bars, label_type = \"center\", fontsize = 9, fontweight = \"bold\", color = \"ivory\")\n",
    "ax1.set(xlabel = \"Year\", ylabel = \"Median New Build Sale Price\", title = \"New Build Count vs Median New Build Sale Prices in Nashville (2018–2024)\")\n",
    "\n",
    "ax2 = ax1.twinx()\n",
    "(line,) = ax2.plot( nash_nb_msp_pop[\"year\"], nash_nb_msp_pop[\"new_builds\"], marker = \"o\", color = \"indigo\", label = \"New Build Count\")\n",
    "\n",
    "temp_bar = ax2.bar(nash_nb_msp_pop[\"year\"], nash_nb_msp_pop[\"new_builds\"], alpha = 0)\n",
    "\n",
    "ax2.bar_label(temp_bar, padding = 14, fontsize = 9, fontweight = \"semibold\")\n",
    "\n",
    "ax1.legend([bars, line], [\"Median New Build Sale Price\", \"New Build Count\"], loc = \"upper left\")\n",
    "\n",
    "plt.tight_layout()\n",
    "plt.show()"
   ]
  },
  {
   "cell_type": "code",
   "execution_count": null,
   "id": "761674d4-81c1-415d-a05a-b4551ce7a3b8",
   "metadata": {},
   "outputs": [],
   "source": [
    "# This chart shows that while the median price of home values consistantly goes up the number of new homes being built varies dropping very low during the pandemic, peaking post covid and now is trending back down.\n",
    "# Pandemic did not affect home sale prices at all really"
   ]
  },
  {
   "cell_type": "markdown",
   "id": "69e13bda-1107-4ae2-a8cb-0d5346fecc1e",
   "metadata": {},
   "source": [
    "# Inventory against other trends"
   ]
  },
  {
   "cell_type": "code",
   "execution_count": null,
   "id": "9fa8b924-3e24-4920-8be3-c9f811efefcb",
   "metadata": {},
   "outputs": [],
   "source": [
    "nash_pop_inv = pd.merge(nash_msp_pop_income, inv_nash , on=\"year\", how=\"inner\")"
   ]
  },
  {
   "cell_type": "code",
   "execution_count": null,
   "id": "ab0946d8-dbda-40be-a086-e414becd4683",
   "metadata": {},
   "outputs": [],
   "source": [
    "nash_pop_inv"
   ]
  },
  {
   "cell_type": "code",
   "execution_count": null,
   "id": "47836a71-b84d-4d97-9537-f5c6f60d7fa6",
   "metadata": {},
   "outputs": [],
   "source": [
    "pop_inv = nash_pop_inv.loc[nash_pop_inv[\"year\"] >= 2018].reset_index(drop=True)"
   ]
  },
  {
   "cell_type": "code",
   "execution_count": null,
   "id": "a585cbd4-7fe1-405d-8bea-6146fa3c9994",
   "metadata": {},
   "outputs": [],
   "source": [
    "base_row = pop_inv.loc[pop_inv[\"year\"] == 2018].iloc[0]"
   ]
  },
  {
   "cell_type": "code",
   "execution_count": null,
   "id": "92650fd4-056c-4523-890b-4ad8ad677c63",
   "metadata": {},
   "outputs": [],
   "source": [
    "pop_inv_2 = pd.DataFrame({\"year\": pop_inv[\"year\"],\"Population\": pop_inv[\"population\"]  / pop_inv.loc[pop_inv[\"year\"] == 2018].iloc[0][\"population\"]  * 100 - 100, \"Income\": pop_inv[\"income\"] / base_row[\"income\"] * 100 - 100, \"Home Prices\": pop_inv[\"sale_price\"] / base_row[\"sale_price\"] * 100 - 100,\"Home Inventory\": pop_inv[\"inventory\"] / base_row[\"inventory\"] * 100 - 100,})"
   ]
  },
  {
   "cell_type": "code",
   "execution_count": null,
   "id": "ce237279-a2fd-443f-bb82-7142d8f1a238",
   "metadata": {},
   "outputs": [],
   "source": [
    "fig, ax = plt.subplots(figsize=(12, 8))\n",
    "\n",
    "pop_inv_2.plot(x = \"year\", y = [\"Population\", \"Income\", \"Home Prices\", \"Home Inventory\"], marker = \"o\", color = [\"darkorange\", \"green\", \"indigo\", \"#4C72B0\"], ax = ax)\n",
    "\n",
    "ax.axhline(0, color = \"black\", linestyle = \"--\", linewidth = 2)\n",
    "ax.set(title = \"Indexed Housing & Economic Trends for Nashville MSA (2018–2024)\", xlabel = \"Year\", ylabel = \"Percent Change from 2018\")\n",
    "ax.grid(True, linestyle=\"--\", alpha=0.25)\n",
    "ax.legend()\n",
    "\n",
    "plt.tight_layout()\n",
    "plt.show()"
   ]
  },
  {
   "cell_type": "code",
   "execution_count": null,
   "id": "91f92e70-c7bf-4b4f-a9c4-a9c68e65539a",
   "metadata": {},
   "outputs": [],
   "source": [
    "# Showing the lack of home inventory against other growing metrics population,income, and home prices"
   ]
  },
  {
   "cell_type": "markdown",
   "id": "77daa4bb-5203-4285-a8d0-a37a9e0f60e6",
   "metadata": {},
   "source": [
    "# Interest Rates"
   ]
  },
  {
   "cell_type": "code",
   "execution_count": null,
   "id": "a7aa82dd-d885-4e38-ad98-13fcb1a9a0ff",
   "metadata": {},
   "outputs": [],
   "source": [
    "# Showing the interest rate spike around COVID"
   ]
  },
  {
   "cell_type": "code",
   "execution_count": null,
   "id": "0b1a4f89-cbc4-46ac-97e8-de243cdd93cb",
   "metadata": {},
   "outputs": [],
   "source": [
    "int_rate = nash_median_housing_costs[['mortgage_rate', 'year']]"
   ]
  },
  {
   "cell_type": "code",
   "execution_count": null,
   "id": "7c66274d-6218-4f7f-9b79-0c46b78f4ba5",
   "metadata": {},
   "outputs": [],
   "source": [
    "fig, ax = plt.subplots(figsize = (13, 8))\n",
    "\n",
    "ax.plot(int_rate[\"year\"], int_rate[\"mortgage_rate\"], marker = \"o\", color = \"purple\", linewidth = 2, label = \"Rate\")\n",
    "\n",
    "ax.axvspan(2021, 2023, color = \"red\", alpha = 0.1, label = \"Rate Spike\")\n",
    "\n",
    "ax.set_xticks(int_rate[\"year\"])\n",
    "\n",
    "ax.set_title(\"National Interest Rate by Year\")\n",
    "ax.set_xlabel(\"Year\")\n",
    "ax.set_ylabel(\"Interest Rate Percentage\")\n",
    "\n",
    "ax.grid(True, linestyle = \"--\", alpha=0.4)\n",
    "ax.legend()\n",
    "\n",
    "plt.tight_layout()\n",
    "plt.show()"
   ]
  }
 ],
 "metadata": {
  "kernelspec": {
   "display_name": "Python [conda env:base] *",
   "language": "python",
   "name": "conda-base-py"
  },
  "language_info": {
   "codemirror_mode": {
    "name": "ipython",
    "version": 3
   },
   "file_extension": ".py",
   "mimetype": "text/x-python",
   "name": "python",
   "nbconvert_exporter": "python",
   "pygments_lexer": "ipython3",
   "version": "3.13.5"
  }
 },
 "nbformat": 4,
 "nbformat_minor": 5
}
